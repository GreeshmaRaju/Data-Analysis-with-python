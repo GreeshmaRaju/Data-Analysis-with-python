{
 "cells": [
  {
   "cell_type": "code",
   "execution_count": 226,
   "metadata": {},
   "outputs": [],
   "source": [
    "import pandas as pd\n",
    "import numpy as np\n",
    "import matplotlib.pyplot as plt\n",
    "import seaborn as sns"
   ]
  },
  {
   "cell_type": "code",
   "execution_count": 227,
   "metadata": {},
   "outputs": [
    {
     "data": {
      "text/html": [
       "<div>\n",
       "<style scoped>\n",
       "    .dataframe tbody tr th:only-of-type {\n",
       "        vertical-align: middle;\n",
       "    }\n",
       "\n",
       "    .dataframe tbody tr th {\n",
       "        vertical-align: top;\n",
       "    }\n",
       "\n",
       "    .dataframe thead th {\n",
       "        text-align: right;\n",
       "    }\n",
       "</style>\n",
       "<table border=\"1\" class=\"dataframe\">\n",
       "  <thead>\n",
       "    <tr style=\"text-align: right;\">\n",
       "      <th></th>\n",
       "      <th>Order ID</th>\n",
       "      <th>Order Date</th>\n",
       "      <th>Order Priority</th>\n",
       "      <th>Order Quantity</th>\n",
       "      <th>Sales</th>\n",
       "      <th>Discount</th>\n",
       "      <th>Ship Mode</th>\n",
       "      <th>Profit</th>\n",
       "      <th>Unit Price</th>\n",
       "      <th>Shipping Cost</th>\n",
       "      <th>Customer Name</th>\n",
       "      <th>State</th>\n",
       "      <th>Customer Segment</th>\n",
       "      <th>Product Category</th>\n",
       "      <th>Product Sub-Category</th>\n",
       "      <th>Product Name</th>\n",
       "      <th>Product Container</th>\n",
       "      <th>Product Base Margin</th>\n",
       "      <th>Ship Date</th>\n",
       "    </tr>\n",
       "    <tr>\n",
       "      <th>Row ID</th>\n",
       "      <th></th>\n",
       "      <th></th>\n",
       "      <th></th>\n",
       "      <th></th>\n",
       "      <th></th>\n",
       "      <th></th>\n",
       "      <th></th>\n",
       "      <th></th>\n",
       "      <th></th>\n",
       "      <th></th>\n",
       "      <th></th>\n",
       "      <th></th>\n",
       "      <th></th>\n",
       "      <th></th>\n",
       "      <th></th>\n",
       "      <th></th>\n",
       "      <th></th>\n",
       "      <th></th>\n",
       "      <th></th>\n",
       "    </tr>\n",
       "  </thead>\n",
       "  <tbody>\n",
       "    <tr>\n",
       "      <td>1</td>\n",
       "      <td>3</td>\n",
       "      <td>2010-10-13</td>\n",
       "      <td>Low</td>\n",
       "      <td>6</td>\n",
       "      <td>261.5400</td>\n",
       "      <td>0.04</td>\n",
       "      <td>Regular Air</td>\n",
       "      <td>-213.2500</td>\n",
       "      <td>38.94</td>\n",
       "      <td>35.00</td>\n",
       "      <td>Muhammed MacIntyre</td>\n",
       "      <td>Arizona</td>\n",
       "      <td>Small Business</td>\n",
       "      <td>Office Supplies</td>\n",
       "      <td>Storage &amp; Organization</td>\n",
       "      <td>Eldon Base for stackable storage shelf, platinum</td>\n",
       "      <td>Large Box</td>\n",
       "      <td>0.80</td>\n",
       "      <td>2010-10-20</td>\n",
       "    </tr>\n",
       "    <tr>\n",
       "      <td>49</td>\n",
       "      <td>293</td>\n",
       "      <td>2012-10-01</td>\n",
       "      <td>High</td>\n",
       "      <td>49</td>\n",
       "      <td>10123.0200</td>\n",
       "      <td>0.07</td>\n",
       "      <td>Delivery Truck</td>\n",
       "      <td>457.8100</td>\n",
       "      <td>208.16</td>\n",
       "      <td>68.02</td>\n",
       "      <td>Barry French</td>\n",
       "      <td>Arizona</td>\n",
       "      <td>Consumer</td>\n",
       "      <td>Office Supplies</td>\n",
       "      <td>Appliances</td>\n",
       "      <td>1.7 Cubic Foot Compact \"Cube\" Office Refrigera...</td>\n",
       "      <td>Jumbo Drum</td>\n",
       "      <td>0.58</td>\n",
       "      <td>2012-10-02</td>\n",
       "    </tr>\n",
       "    <tr>\n",
       "      <td>50</td>\n",
       "      <td>293</td>\n",
       "      <td>2012-10-01</td>\n",
       "      <td>High</td>\n",
       "      <td>27</td>\n",
       "      <td>244.5700</td>\n",
       "      <td>0.01</td>\n",
       "      <td>Regular Air</td>\n",
       "      <td>46.7075</td>\n",
       "      <td>8.69</td>\n",
       "      <td>2.99</td>\n",
       "      <td>Barry French</td>\n",
       "      <td>Arizona</td>\n",
       "      <td>Consumer</td>\n",
       "      <td>Office Supplies</td>\n",
       "      <td>Binders and Binder Accessories</td>\n",
       "      <td>Cardinal Slant-D® Ring Binder, Heavy Gauge Vinyl</td>\n",
       "      <td>Small Box</td>\n",
       "      <td>0.39</td>\n",
       "      <td>2012-10-03</td>\n",
       "    </tr>\n",
       "    <tr>\n",
       "      <td>80</td>\n",
       "      <td>483</td>\n",
       "      <td>2011-07-10</td>\n",
       "      <td>High</td>\n",
       "      <td>30</td>\n",
       "      <td>4965.7595</td>\n",
       "      <td>0.08</td>\n",
       "      <td>Regular Air</td>\n",
       "      <td>1198.9710</td>\n",
       "      <td>195.99</td>\n",
       "      <td>3.99</td>\n",
       "      <td>Clay Rozendal</td>\n",
       "      <td>Arizona</td>\n",
       "      <td>Corporate</td>\n",
       "      <td>Technology</td>\n",
       "      <td>Telephones and Communication</td>\n",
       "      <td>R380</td>\n",
       "      <td>Small Box</td>\n",
       "      <td>0.58</td>\n",
       "      <td>2011-07-12</td>\n",
       "    </tr>\n",
       "    <tr>\n",
       "      <td>85</td>\n",
       "      <td>515</td>\n",
       "      <td>2010-08-28</td>\n",
       "      <td>Not Specified</td>\n",
       "      <td>19</td>\n",
       "      <td>394.2700</td>\n",
       "      <td>0.08</td>\n",
       "      <td>Regular Air</td>\n",
       "      <td>30.9400</td>\n",
       "      <td>21.78</td>\n",
       "      <td>5.94</td>\n",
       "      <td>Carlos Soltero</td>\n",
       "      <td>Arizona</td>\n",
       "      <td>Consumer</td>\n",
       "      <td>Office Supplies</td>\n",
       "      <td>Appliances</td>\n",
       "      <td>Holmes HEPA Air Purifier</td>\n",
       "      <td>Medium Box</td>\n",
       "      <td>0.50</td>\n",
       "      <td>2010-08-30</td>\n",
       "    </tr>\n",
       "    <tr>\n",
       "      <td>...</td>\n",
       "      <td>...</td>\n",
       "      <td>...</td>\n",
       "      <td>...</td>\n",
       "      <td>...</td>\n",
       "      <td>...</td>\n",
       "      <td>...</td>\n",
       "      <td>...</td>\n",
       "      <td>...</td>\n",
       "      <td>...</td>\n",
       "      <td>...</td>\n",
       "      <td>...</td>\n",
       "      <td>...</td>\n",
       "      <td>...</td>\n",
       "      <td>...</td>\n",
       "      <td>...</td>\n",
       "      <td>...</td>\n",
       "      <td>...</td>\n",
       "      <td>...</td>\n",
       "      <td>...</td>\n",
       "    </tr>\n",
       "    <tr>\n",
       "      <td>7765</td>\n",
       "      <td>55558</td>\n",
       "      <td>2010-08-09</td>\n",
       "      <td>Medium</td>\n",
       "      <td>8</td>\n",
       "      <td>1294.0400</td>\n",
       "      <td>0.05</td>\n",
       "      <td>Delivery Truck</td>\n",
       "      <td>-323.1800</td>\n",
       "      <td>150.98</td>\n",
       "      <td>66.27</td>\n",
       "      <td>Mick Brown</td>\n",
       "      <td>Arizona</td>\n",
       "      <td>Consumer</td>\n",
       "      <td>Furniture</td>\n",
       "      <td>Bookcases</td>\n",
       "      <td>Bush Mission Pointe Library</td>\n",
       "      <td>Jumbo Box</td>\n",
       "      <td>0.65</td>\n",
       "      <td>2010-08-09</td>\n",
       "    </tr>\n",
       "    <tr>\n",
       "      <td>7766</td>\n",
       "      <td>55558</td>\n",
       "      <td>2010-08-09</td>\n",
       "      <td>Medium</td>\n",
       "      <td>23</td>\n",
       "      <td>392.5700</td>\n",
       "      <td>0.04</td>\n",
       "      <td>Regular Air</td>\n",
       "      <td>22.2500</td>\n",
       "      <td>17.07</td>\n",
       "      <td>8.13</td>\n",
       "      <td>Mick Brown</td>\n",
       "      <td>Arizona</td>\n",
       "      <td>Consumer</td>\n",
       "      <td>Office Supplies</td>\n",
       "      <td>Envelopes</td>\n",
       "      <td>Recycled Interoffice Envelopes with Re-Use-A-S...</td>\n",
       "      <td>Small Box</td>\n",
       "      <td>0.38</td>\n",
       "      <td>2010-08-11</td>\n",
       "    </tr>\n",
       "    <tr>\n",
       "      <td>7906</td>\n",
       "      <td>56550</td>\n",
       "      <td>2011-04-08</td>\n",
       "      <td>Not Specified</td>\n",
       "      <td>37</td>\n",
       "      <td>823.7800</td>\n",
       "      <td>0.03</td>\n",
       "      <td>Express Air</td>\n",
       "      <td>343.0500</td>\n",
       "      <td>22.23</td>\n",
       "      <td>5.08</td>\n",
       "      <td>Frank Hawley</td>\n",
       "      <td>Arizona</td>\n",
       "      <td>Home Office</td>\n",
       "      <td>Furniture</td>\n",
       "      <td>Office Furnishings</td>\n",
       "      <td>Executive Impressions 14\"</td>\n",
       "      <td>Small Pack</td>\n",
       "      <td>0.41</td>\n",
       "      <td>2011-04-10</td>\n",
       "    </tr>\n",
       "    <tr>\n",
       "      <td>7907</td>\n",
       "      <td>56550</td>\n",
       "      <td>2011-04-08</td>\n",
       "      <td>Not Specified</td>\n",
       "      <td>8</td>\n",
       "      <td>469.8375</td>\n",
       "      <td>0.00</td>\n",
       "      <td>Regular Air</td>\n",
       "      <td>-159.2360</td>\n",
       "      <td>65.99</td>\n",
       "      <td>8.99</td>\n",
       "      <td>Frank Hawley</td>\n",
       "      <td>Arizona</td>\n",
       "      <td>Home Office</td>\n",
       "      <td>Technology</td>\n",
       "      <td>Telephones and Communication</td>\n",
       "      <td>Talkabout T8367</td>\n",
       "      <td>Small Box</td>\n",
       "      <td>0.56</td>\n",
       "      <td>2011-04-09</td>\n",
       "    </tr>\n",
       "    <tr>\n",
       "      <td>7914</td>\n",
       "      <td>56581</td>\n",
       "      <td>2009-02-08</td>\n",
       "      <td>High</td>\n",
       "      <td>20</td>\n",
       "      <td>2026.0100</td>\n",
       "      <td>0.10</td>\n",
       "      <td>Express Air</td>\n",
       "      <td>580.4300</td>\n",
       "      <td>105.98</td>\n",
       "      <td>13.99</td>\n",
       "      <td>Grant Donatelli</td>\n",
       "      <td>Arizona</td>\n",
       "      <td>Consumer</td>\n",
       "      <td>Furniture</td>\n",
       "      <td>Office Furnishings</td>\n",
       "      <td>Tenex 46\" x 60\" Computer Anti-Static Chairmat,...</td>\n",
       "      <td>Medium Box</td>\n",
       "      <td>0.65</td>\n",
       "      <td>2009-02-11</td>\n",
       "    </tr>\n",
       "  </tbody>\n",
       "</table>\n",
       "<p>8399 rows × 19 columns</p>\n",
       "</div>"
      ],
      "text/plain": [
       "        Order ID Order Date Order Priority  Order Quantity       Sales  \\\n",
       "Row ID                                                                   \n",
       "1              3 2010-10-13            Low               6    261.5400   \n",
       "49           293 2012-10-01           High              49  10123.0200   \n",
       "50           293 2012-10-01           High              27    244.5700   \n",
       "80           483 2011-07-10           High              30   4965.7595   \n",
       "85           515 2010-08-28  Not Specified              19    394.2700   \n",
       "...          ...        ...            ...             ...         ...   \n",
       "7765       55558 2010-08-09         Medium               8   1294.0400   \n",
       "7766       55558 2010-08-09         Medium              23    392.5700   \n",
       "7906       56550 2011-04-08  Not Specified              37    823.7800   \n",
       "7907       56550 2011-04-08  Not Specified               8    469.8375   \n",
       "7914       56581 2009-02-08           High              20   2026.0100   \n",
       "\n",
       "        Discount       Ship Mode     Profit  Unit Price  Shipping Cost  \\\n",
       "Row ID                                                                   \n",
       "1           0.04     Regular Air  -213.2500       38.94          35.00   \n",
       "49          0.07  Delivery Truck   457.8100      208.16          68.02   \n",
       "50          0.01     Regular Air    46.7075        8.69           2.99   \n",
       "80          0.08     Regular Air  1198.9710      195.99           3.99   \n",
       "85          0.08     Regular Air    30.9400       21.78           5.94   \n",
       "...          ...             ...        ...         ...            ...   \n",
       "7765        0.05  Delivery Truck  -323.1800      150.98          66.27   \n",
       "7766        0.04     Regular Air    22.2500       17.07           8.13   \n",
       "7906        0.03     Express Air   343.0500       22.23           5.08   \n",
       "7907        0.00     Regular Air  -159.2360       65.99           8.99   \n",
       "7914        0.10     Express Air   580.4300      105.98          13.99   \n",
       "\n",
       "             Customer Name    State Customer Segment Product Category  \\\n",
       "Row ID                                                                  \n",
       "1       Muhammed MacIntyre  Arizona   Small Business  Office Supplies   \n",
       "49            Barry French  Arizona         Consumer  Office Supplies   \n",
       "50            Barry French  Arizona         Consumer  Office Supplies   \n",
       "80           Clay Rozendal  Arizona        Corporate       Technology   \n",
       "85          Carlos Soltero  Arizona         Consumer  Office Supplies   \n",
       "...                    ...      ...              ...              ...   \n",
       "7765            Mick Brown  Arizona         Consumer        Furniture   \n",
       "7766            Mick Brown  Arizona         Consumer  Office Supplies   \n",
       "7906          Frank Hawley  Arizona      Home Office        Furniture   \n",
       "7907          Frank Hawley  Arizona      Home Office       Technology   \n",
       "7914       Grant Donatelli  Arizona         Consumer        Furniture   \n",
       "\n",
       "                  Product Sub-Category  \\\n",
       "Row ID                                   \n",
       "1               Storage & Organization   \n",
       "49                          Appliances   \n",
       "50      Binders and Binder Accessories   \n",
       "80        Telephones and Communication   \n",
       "85                          Appliances   \n",
       "...                                ...   \n",
       "7765                         Bookcases   \n",
       "7766                         Envelopes   \n",
       "7906                Office Furnishings   \n",
       "7907      Telephones and Communication   \n",
       "7914                Office Furnishings   \n",
       "\n",
       "                                             Product Name Product Container  \\\n",
       "Row ID                                                                        \n",
       "1        Eldon Base for stackable storage shelf, platinum         Large Box   \n",
       "49      1.7 Cubic Foot Compact \"Cube\" Office Refrigera...        Jumbo Drum   \n",
       "50       Cardinal Slant-D® Ring Binder, Heavy Gauge Vinyl         Small Box   \n",
       "80                                                   R380         Small Box   \n",
       "85                               Holmes HEPA Air Purifier        Medium Box   \n",
       "...                                                   ...               ...   \n",
       "7765                          Bush Mission Pointe Library         Jumbo Box   \n",
       "7766    Recycled Interoffice Envelopes with Re-Use-A-S...         Small Box   \n",
       "7906                            Executive Impressions 14\"        Small Pack   \n",
       "7907                                      Talkabout T8367         Small Box   \n",
       "7914    Tenex 46\" x 60\" Computer Anti-Static Chairmat,...        Medium Box   \n",
       "\n",
       "        Product Base Margin  Ship Date  \n",
       "Row ID                                  \n",
       "1                      0.80 2010-10-20  \n",
       "49                     0.58 2012-10-02  \n",
       "50                     0.39 2012-10-03  \n",
       "80                     0.58 2011-07-12  \n",
       "85                     0.50 2010-08-30  \n",
       "...                     ...        ...  \n",
       "7765                   0.65 2010-08-09  \n",
       "7766                   0.38 2010-08-11  \n",
       "7906                   0.41 2011-04-10  \n",
       "7907                   0.56 2011-04-09  \n",
       "7914                   0.65 2009-02-11  \n",
       "\n",
       "[8399 rows x 19 columns]"
      ]
     },
     "execution_count": 227,
     "metadata": {},
     "output_type": "execute_result"
    }
   ],
   "source": [
    "superstore=pd.read_excel('superstoreDataset.xlsx',index_col=0)\n",
    "superstore"
   ]
  },
  {
   "cell_type": "code",
   "execution_count": 228,
   "metadata": {},
   "outputs": [
    {
     "data": {
      "text/plain": [
       "Order ID                 0\n",
       "Order Date               0\n",
       "Order Priority           0\n",
       "Order Quantity           0\n",
       "Sales                    0\n",
       "Discount                 0\n",
       "Ship Mode                0\n",
       "Profit                   0\n",
       "Unit Price               0\n",
       "Shipping Cost            0\n",
       "Customer Name            0\n",
       "State                    0\n",
       "Customer Segment         0\n",
       "Product Category         0\n",
       "Product Sub-Category     0\n",
       "Product Name             0\n",
       "Product Container        0\n",
       "Product Base Margin     63\n",
       "Ship Date                0\n",
       "dtype: int64"
      ]
     },
     "execution_count": 228,
     "metadata": {},
     "output_type": "execute_result"
    }
   ],
   "source": [
    "superstore.isnull().sum()"
   ]
  },
  {
   "cell_type": "code",
   "execution_count": 229,
   "metadata": {},
   "outputs": [
    {
     "data": {
      "text/html": [
       "<div>\n",
       "<style scoped>\n",
       "    .dataframe tbody tr th:only-of-type {\n",
       "        vertical-align: middle;\n",
       "    }\n",
       "\n",
       "    .dataframe tbody tr th {\n",
       "        vertical-align: top;\n",
       "    }\n",
       "\n",
       "    .dataframe thead th {\n",
       "        text-align: right;\n",
       "    }\n",
       "</style>\n",
       "<table border=\"1\" class=\"dataframe\">\n",
       "  <thead>\n",
       "    <tr style=\"text-align: right;\">\n",
       "      <th></th>\n",
       "      <th>Order ID</th>\n",
       "      <th>Order Date</th>\n",
       "      <th>Order Priority</th>\n",
       "      <th>Order Quantity</th>\n",
       "      <th>Sales</th>\n",
       "      <th>Discount</th>\n",
       "      <th>Ship Mode</th>\n",
       "      <th>Profit</th>\n",
       "      <th>Unit Price</th>\n",
       "      <th>Shipping Cost</th>\n",
       "      <th>Customer Name</th>\n",
       "      <th>State</th>\n",
       "      <th>Customer Segment</th>\n",
       "      <th>Product Category</th>\n",
       "      <th>Product Sub-Category</th>\n",
       "      <th>Product Name</th>\n",
       "      <th>Product Container</th>\n",
       "      <th>Product Base Margin</th>\n",
       "      <th>Ship Date</th>\n",
       "    </tr>\n",
       "    <tr>\n",
       "      <th>Row ID</th>\n",
       "      <th></th>\n",
       "      <th></th>\n",
       "      <th></th>\n",
       "      <th></th>\n",
       "      <th></th>\n",
       "      <th></th>\n",
       "      <th></th>\n",
       "      <th></th>\n",
       "      <th></th>\n",
       "      <th></th>\n",
       "      <th></th>\n",
       "      <th></th>\n",
       "      <th></th>\n",
       "      <th></th>\n",
       "      <th></th>\n",
       "      <th></th>\n",
       "      <th></th>\n",
       "      <th></th>\n",
       "      <th></th>\n",
       "    </tr>\n",
       "  </thead>\n",
       "  <tbody>\n",
       "    <tr>\n",
       "      <td>98</td>\n",
       "      <td>613</td>\n",
       "      <td>2011-06-17</td>\n",
       "      <td>High</td>\n",
       "      <td>22</td>\n",
       "      <td>905.080</td>\n",
       "      <td>0.09</td>\n",
       "      <td>Regular Air</td>\n",
       "      <td>127.70</td>\n",
       "      <td>42.76</td>\n",
       "      <td>6.22</td>\n",
       "      <td>Carl Jackson</td>\n",
       "      <td>Arizona</td>\n",
       "      <td>Corporate</td>\n",
       "      <td>Office Supplies</td>\n",
       "      <td>Storage &amp; Organization</td>\n",
       "      <td>SAFCO Mobile Desk Side File, Wire Frame</td>\n",
       "      <td>Small Box</td>\n",
       "      <td>NaN</td>\n",
       "      <td>2011-06-18</td>\n",
       "    </tr>\n",
       "    <tr>\n",
       "      <td>103</td>\n",
       "      <td>643</td>\n",
       "      <td>2011-03-24</td>\n",
       "      <td>High</td>\n",
       "      <td>21</td>\n",
       "      <td>2781.820</td>\n",
       "      <td>0.07</td>\n",
       "      <td>Express Air</td>\n",
       "      <td>-695.26</td>\n",
       "      <td>138.14</td>\n",
       "      <td>35.00</td>\n",
       "      <td>Monica Federle</td>\n",
       "      <td>Arizona</td>\n",
       "      <td>Corporate</td>\n",
       "      <td>Office Supplies</td>\n",
       "      <td>Storage &amp; Organization</td>\n",
       "      <td>SAFCO Commercial Wire Shelving, Black</td>\n",
       "      <td>Large Box</td>\n",
       "      <td>NaN</td>\n",
       "      <td>2011-03-25</td>\n",
       "    </tr>\n",
       "    <tr>\n",
       "      <td>988</td>\n",
       "      <td>7110</td>\n",
       "      <td>2011-08-07</td>\n",
       "      <td>Low</td>\n",
       "      <td>22</td>\n",
       "      <td>6396.200</td>\n",
       "      <td>0.02</td>\n",
       "      <td>Regular Air</td>\n",
       "      <td>1902.24</td>\n",
       "      <td>276.20</td>\n",
       "      <td>24.49</td>\n",
       "      <td>Grant Carroll</td>\n",
       "      <td>Arizona</td>\n",
       "      <td>Corporate</td>\n",
       "      <td>Furniture</td>\n",
       "      <td>Chairs &amp; Chairmats</td>\n",
       "      <td>SAFCO Arco Folding Chair</td>\n",
       "      <td>Large Box</td>\n",
       "      <td>NaN</td>\n",
       "      <td>2011-08-11</td>\n",
       "    </tr>\n",
       "    <tr>\n",
       "      <td>3419</td>\n",
       "      <td>24387</td>\n",
       "      <td>2011-08-10</td>\n",
       "      <td>Critical</td>\n",
       "      <td>17</td>\n",
       "      <td>6048.180</td>\n",
       "      <td>0.04</td>\n",
       "      <td>Delivery Truck</td>\n",
       "      <td>1418.36</td>\n",
       "      <td>349.45</td>\n",
       "      <td>60.00</td>\n",
       "      <td>Bryan Mills</td>\n",
       "      <td>Ohio</td>\n",
       "      <td>Small Business</td>\n",
       "      <td>Furniture</td>\n",
       "      <td>Tables</td>\n",
       "      <td>SAFCO PlanMaster Heigh-Adjustable Drafting Tab...</td>\n",
       "      <td>Jumbo Drum</td>\n",
       "      <td>NaN</td>\n",
       "      <td>2011-08-10</td>\n",
       "    </tr>\n",
       "    <tr>\n",
       "      <td>4306</td>\n",
       "      <td>30658</td>\n",
       "      <td>2011-03-26</td>\n",
       "      <td>Medium</td>\n",
       "      <td>44</td>\n",
       "      <td>6040.220</td>\n",
       "      <td>0.05</td>\n",
       "      <td>Regular Air</td>\n",
       "      <td>-942.50</td>\n",
       "      <td>138.14</td>\n",
       "      <td>35.00</td>\n",
       "      <td>Charles McCrossin</td>\n",
       "      <td>Ohio</td>\n",
       "      <td>Corporate</td>\n",
       "      <td>Office Supplies</td>\n",
       "      <td>Storage &amp; Organization</td>\n",
       "      <td>SAFCO Commercial Wire Shelving, Black</td>\n",
       "      <td>Large Box</td>\n",
       "      <td>NaN</td>\n",
       "      <td>2011-03-28</td>\n",
       "    </tr>\n",
       "    <tr>\n",
       "      <td>...</td>\n",
       "      <td>...</td>\n",
       "      <td>...</td>\n",
       "      <td>...</td>\n",
       "      <td>...</td>\n",
       "      <td>...</td>\n",
       "      <td>...</td>\n",
       "      <td>...</td>\n",
       "      <td>...</td>\n",
       "      <td>...</td>\n",
       "      <td>...</td>\n",
       "      <td>...</td>\n",
       "      <td>...</td>\n",
       "      <td>...</td>\n",
       "      <td>...</td>\n",
       "      <td>...</td>\n",
       "      <td>...</td>\n",
       "      <td>...</td>\n",
       "      <td>...</td>\n",
       "      <td>...</td>\n",
       "    </tr>\n",
       "    <tr>\n",
       "      <td>6015</td>\n",
       "      <td>42628</td>\n",
       "      <td>2011-05-05</td>\n",
       "      <td>Not Specified</td>\n",
       "      <td>4</td>\n",
       "      <td>1199.336</td>\n",
       "      <td>0.01</td>\n",
       "      <td>Delivery Truck</td>\n",
       "      <td>224.80</td>\n",
       "      <td>349.45</td>\n",
       "      <td>60.00</td>\n",
       "      <td>Ken Lonsdale</td>\n",
       "      <td>California</td>\n",
       "      <td>Consumer</td>\n",
       "      <td>Furniture</td>\n",
       "      <td>Tables</td>\n",
       "      <td>SAFCO PlanMaster Heigh-Adjustable Drafting Tab...</td>\n",
       "      <td>Jumbo Drum</td>\n",
       "      <td>NaN</td>\n",
       "      <td>2011-05-07</td>\n",
       "    </tr>\n",
       "    <tr>\n",
       "      <td>7124</td>\n",
       "      <td>50822</td>\n",
       "      <td>2012-02-07</td>\n",
       "      <td>Medium</td>\n",
       "      <td>6</td>\n",
       "      <td>1635.290</td>\n",
       "      <td>0.10</td>\n",
       "      <td>Regular Air</td>\n",
       "      <td>7.92</td>\n",
       "      <td>276.20</td>\n",
       "      <td>24.49</td>\n",
       "      <td>Carol Darley</td>\n",
       "      <td>California</td>\n",
       "      <td>Small Business</td>\n",
       "      <td>Furniture</td>\n",
       "      <td>Chairs &amp; Chairmats</td>\n",
       "      <td>SAFCO Arco Folding Chair</td>\n",
       "      <td>Large Box</td>\n",
       "      <td>NaN</td>\n",
       "      <td>2012-02-08</td>\n",
       "    </tr>\n",
       "    <tr>\n",
       "      <td>261</td>\n",
       "      <td>1824</td>\n",
       "      <td>2009-05-04</td>\n",
       "      <td>Critical</td>\n",
       "      <td>39</td>\n",
       "      <td>10656.260</td>\n",
       "      <td>0.06</td>\n",
       "      <td>Regular Air</td>\n",
       "      <td>3116.54</td>\n",
       "      <td>276.20</td>\n",
       "      <td>24.49</td>\n",
       "      <td>Becky Pak</td>\n",
       "      <td>California</td>\n",
       "      <td>Corporate</td>\n",
       "      <td>Furniture</td>\n",
       "      <td>Chairs &amp; Chairmats</td>\n",
       "      <td>SAFCO Arco Folding Chair</td>\n",
       "      <td>Large Box</td>\n",
       "      <td>NaN</td>\n",
       "      <td>2009-05-05</td>\n",
       "    </tr>\n",
       "    <tr>\n",
       "      <td>728</td>\n",
       "      <td>5222</td>\n",
       "      <td>2009-05-26</td>\n",
       "      <td>Not Specified</td>\n",
       "      <td>40</td>\n",
       "      <td>14451.750</td>\n",
       "      <td>0.01</td>\n",
       "      <td>Delivery Truck</td>\n",
       "      <td>4503.63</td>\n",
       "      <td>349.45</td>\n",
       "      <td>60.00</td>\n",
       "      <td>Tonja Turnell</td>\n",
       "      <td>Arizona</td>\n",
       "      <td>Consumer</td>\n",
       "      <td>Furniture</td>\n",
       "      <td>Tables</td>\n",
       "      <td>SAFCO PlanMaster Heigh-Adjustable Drafting Tab...</td>\n",
       "      <td>Jumbo Drum</td>\n",
       "      <td>NaN</td>\n",
       "      <td>2009-05-27</td>\n",
       "    </tr>\n",
       "    <tr>\n",
       "      <td>7268</td>\n",
       "      <td>51872</td>\n",
       "      <td>2012-04-23</td>\n",
       "      <td>Medium</td>\n",
       "      <td>10</td>\n",
       "      <td>2193.930</td>\n",
       "      <td>0.09</td>\n",
       "      <td>Regular Air</td>\n",
       "      <td>41.83</td>\n",
       "      <td>238.40</td>\n",
       "      <td>24.49</td>\n",
       "      <td>Shui Tom</td>\n",
       "      <td>Arizona</td>\n",
       "      <td>Consumer</td>\n",
       "      <td>Furniture</td>\n",
       "      <td>Chairs &amp; Chairmats</td>\n",
       "      <td>Safco Contoured Stacking Chairs</td>\n",
       "      <td>Large Box</td>\n",
       "      <td>NaN</td>\n",
       "      <td>2012-04-24</td>\n",
       "    </tr>\n",
       "  </tbody>\n",
       "</table>\n",
       "<p>63 rows × 19 columns</p>\n",
       "</div>"
      ],
      "text/plain": [
       "        Order ID Order Date Order Priority  Order Quantity      Sales  \\\n",
       "Row ID                                                                  \n",
       "98           613 2011-06-17           High              22    905.080   \n",
       "103          643 2011-03-24           High              21   2781.820   \n",
       "988         7110 2011-08-07            Low              22   6396.200   \n",
       "3419       24387 2011-08-10       Critical              17   6048.180   \n",
       "4306       30658 2011-03-26         Medium              44   6040.220   \n",
       "...          ...        ...            ...             ...        ...   \n",
       "6015       42628 2011-05-05  Not Specified               4   1199.336   \n",
       "7124       50822 2012-02-07         Medium               6   1635.290   \n",
       "261         1824 2009-05-04       Critical              39  10656.260   \n",
       "728         5222 2009-05-26  Not Specified              40  14451.750   \n",
       "7268       51872 2012-04-23         Medium              10   2193.930   \n",
       "\n",
       "        Discount       Ship Mode   Profit  Unit Price  Shipping Cost  \\\n",
       "Row ID                                                                 \n",
       "98          0.09     Regular Air   127.70       42.76           6.22   \n",
       "103         0.07     Express Air  -695.26      138.14          35.00   \n",
       "988         0.02     Regular Air  1902.24      276.20          24.49   \n",
       "3419        0.04  Delivery Truck  1418.36      349.45          60.00   \n",
       "4306        0.05     Regular Air  -942.50      138.14          35.00   \n",
       "...          ...             ...      ...         ...            ...   \n",
       "6015        0.01  Delivery Truck   224.80      349.45          60.00   \n",
       "7124        0.10     Regular Air     7.92      276.20          24.49   \n",
       "261         0.06     Regular Air  3116.54      276.20          24.49   \n",
       "728         0.01  Delivery Truck  4503.63      349.45          60.00   \n",
       "7268        0.09     Regular Air    41.83      238.40          24.49   \n",
       "\n",
       "            Customer Name       State Customer Segment Product Category  \\\n",
       "Row ID                                                                    \n",
       "98           Carl Jackson     Arizona        Corporate  Office Supplies   \n",
       "103        Monica Federle     Arizona        Corporate  Office Supplies   \n",
       "988         Grant Carroll     Arizona        Corporate        Furniture   \n",
       "3419          Bryan Mills        Ohio   Small Business        Furniture   \n",
       "4306    Charles McCrossin        Ohio        Corporate  Office Supplies   \n",
       "...                   ...         ...              ...              ...   \n",
       "6015         Ken Lonsdale  California         Consumer        Furniture   \n",
       "7124         Carol Darley  California   Small Business        Furniture   \n",
       "261             Becky Pak  California        Corporate        Furniture   \n",
       "728         Tonja Turnell     Arizona         Consumer        Furniture   \n",
       "7268             Shui Tom     Arizona         Consumer        Furniture   \n",
       "\n",
       "          Product Sub-Category  \\\n",
       "Row ID                           \n",
       "98      Storage & Organization   \n",
       "103     Storage & Organization   \n",
       "988         Chairs & Chairmats   \n",
       "3419                    Tables   \n",
       "4306    Storage & Organization   \n",
       "...                        ...   \n",
       "6015                    Tables   \n",
       "7124        Chairs & Chairmats   \n",
       "261         Chairs & Chairmats   \n",
       "728                     Tables   \n",
       "7268        Chairs & Chairmats   \n",
       "\n",
       "                                             Product Name Product Container  \\\n",
       "Row ID                                                                        \n",
       "98                SAFCO Mobile Desk Side File, Wire Frame         Small Box   \n",
       "103                 SAFCO Commercial Wire Shelving, Black         Large Box   \n",
       "988                              SAFCO Arco Folding Chair         Large Box   \n",
       "3419    SAFCO PlanMaster Heigh-Adjustable Drafting Tab...        Jumbo Drum   \n",
       "4306                SAFCO Commercial Wire Shelving, Black         Large Box   \n",
       "...                                                   ...               ...   \n",
       "6015    SAFCO PlanMaster Heigh-Adjustable Drafting Tab...        Jumbo Drum   \n",
       "7124                             SAFCO Arco Folding Chair         Large Box   \n",
       "261                              SAFCO Arco Folding Chair         Large Box   \n",
       "728     SAFCO PlanMaster Heigh-Adjustable Drafting Tab...        Jumbo Drum   \n",
       "7268                      Safco Contoured Stacking Chairs         Large Box   \n",
       "\n",
       "        Product Base Margin  Ship Date  \n",
       "Row ID                                  \n",
       "98                      NaN 2011-06-18  \n",
       "103                     NaN 2011-03-25  \n",
       "988                     NaN 2011-08-11  \n",
       "3419                    NaN 2011-08-10  \n",
       "4306                    NaN 2011-03-28  \n",
       "...                     ...        ...  \n",
       "6015                    NaN 2011-05-07  \n",
       "7124                    NaN 2012-02-08  \n",
       "261                     NaN 2009-05-05  \n",
       "728                     NaN 2009-05-27  \n",
       "7268                    NaN 2012-04-24  \n",
       "\n",
       "[63 rows x 19 columns]"
      ]
     },
     "execution_count": 229,
     "metadata": {},
     "output_type": "execute_result"
    }
   ],
   "source": [
    "mask=superstore['Product Base Margin'].isnull()\n",
    "superstore[mask]"
   ]
  },
  {
   "cell_type": "code",
   "execution_count": 230,
   "metadata": {},
   "outputs": [
    {
     "data": {
      "text/plain": [
       "dtype('<M8[ns]')"
      ]
     },
     "execution_count": 230,
     "metadata": {},
     "output_type": "execute_result"
    }
   ],
   "source": [
    "superstore['Order Date'].dtype"
   ]
  },
  {
   "cell_type": "code",
   "execution_count": 231,
   "metadata": {
    "scrolled": true
   },
   "outputs": [
    {
     "data": {
      "text/plain": [
       "State       Product Category  Product Sub-Category        \n",
       "Arizona     Furniture         Bookcases                        30555.400\n",
       "                              Chairs & Chairmats               87513.820\n",
       "                              Office Furnishings               32240.890\n",
       "                              Tables                           82308.974\n",
       "            Office Supplies   Appliances                       35602.830\n",
       "                                                                 ...    \n",
       "Washington  Office Supplies   Storage & Organization           84089.270\n",
       "            Technology        Computer Peripherals             41300.150\n",
       "                              Copiers and Fax                  65251.560\n",
       "                              Office Machines                 182127.210\n",
       "                              Telephones and Communication    129312.217\n",
       "Name: Sales, Length: 136, dtype: float64"
      ]
     },
     "execution_count": 231,
     "metadata": {},
     "output_type": "execute_result"
    }
   ],
   "source": [
    "total_sales=superstore.groupby(['State','Product Category','Product Sub-Category'])['Sales'].sum()\n",
    "total_sales"
   ]
  },
  {
   "cell_type": "markdown",
   "metadata": {},
   "source": [
    "Plotly:\n",
    "\n",
    "profit_product_sub_category.iplot(kind='bar', title='Texas Sales Profit')"
   ]
  },
  {
   "cell_type": "code",
   "execution_count": 237,
   "metadata": {},
   "outputs": [
    {
     "data": {
      "text/plain": [
       "Text(0.5, 1.0, 'Texas Sales Profit')"
      ]
     },
     "execution_count": 237,
     "metadata": {},
     "output_type": "execute_result"
    },
    {
     "data": {
      "image/png": "[encoded data removed]",
      "text/plain": [
       "<Figure size 432x288 with 1 Axes>"
      ]
     },
     "metadata": {
      "needs_background": "light"
     },
     "output_type": "display_data"
    }
   ],
   "source": [
    "plot1=profit_product_sub_category.plot.bar()\n",
    "plot1.set_xlabel('Product Sub Category')\n",
    "plot1.set_ylabel('Profit')\n",
    "plot1.set_title('Texas Sales Profit')"
   ]
  },
  {
   "cell_type": "code",
   "execution_count": null,
   "metadata": {},
   "outputs": [],
   "source": [
    "#Q4. Display the data type of the values in the column of ‘Order Date’. \n",
    "#If there is a need to change the column into a date, use an appropriate function to do it.\n",
    "#If there is no need to do it, do not do it. Create a pivot table regrading the total sales of each state in each year.\n",
    "#Then, draw a line chart to show the results. \n",
    "\n",
    "superstore['Order Date'].dtype"
   ]
  },
  {
   "cell_type": "code",
   "execution_count": null,
   "metadata": {},
   "outputs": [],
   "source": [
    "total_sales_pivot=superstore.pivot_table('Sales',index=superstore['Order Date'].dt.year,columns='State',aggfunc='sum')\n",
    "total_sales_pivot"
   ]
  },
  {
   "cell_type": "code",
   "execution_count": null,
   "metadata": {},
   "outputs": [],
   "source": [
    "plot2=total_sales_pivot.plot(figsize=(12,8),marker='s')\n",
    "plot2.set_xlabel('Year')\n",
    "plot2.set_ylabel('Sales')\n",
    "plot2.set_title('Total SAles Of Each State from 2009 to 2012')\n",
    "plot2.set_xticks([2009,2010,2011,2012])"
   ]
  },
  {
   "cell_type": "code",
   "execution_count": 241,
   "metadata": {},
   "outputs": [
    {
     "data": {
      "text/plain": [
       "<matplotlib.axes._subplots.AxesSubplot at 0x264bcd0cfc8>"
      ]
     },
     "execution_count": 241,
     "metadata": {},
     "output_type": "execute_result"
    },
    {
     "data": {
      "image/png": "[encoded data removed]",
      "text/plain": [
       "<Figure size 432x288 with 1 Axes>"
      ]
     },
     "metadata": {
      "needs_background": "light"
     },
     "output_type": "display_data"
    }
   ],
   "source": [
    "#Q5. Create a histogram chart, a density chart and distplot chart based on the Appliances unit prices. \n",
    "#Define appropriate titles, labels\n",
    "\n",
    "mask2=superstore[superstore['Product Sub-Category']=='Appliances']\n",
    "mask2['Unit Price'].plot.hist(bins=50)\n",
    "mask2['Unit Price'].plot.hist(bins=50)"
   ]
  },
  {
   "cell_type": "code",
   "execution_count": 244,
   "metadata": {},
   "outputs": [
    {
     "data": {
      "text/plain": [
       "<matplotlib.axes._subplots.AxesSubplot at 0x264bce28808>"
      ]
     },
     "execution_count": 244,
     "metadata": {},
     "output_type": "execute_result"
    },
    {
     "data": {
      "image/png": "[encoded data removed]",
      "text/plain": [
       "<Figure size 432x288 with 1 Axes>"
      ]
     },
     "metadata": {
      "needs_background": "light"
     },
     "output_type": "display_data"
    }
   ],
   "source": [
    "mask2['Unit Price'].plot.density()\n"
   ]
  },
  {
   "cell_type": "code",
   "execution_count": null,
   "metadata": {},
   "outputs": [],
   "source": [
    "sns.distplot(mask2['Unit Price'],bins=50)"
   ]
  },
  {
   "cell_type": "markdown",
   "metadata": {},
   "source": [
    "Plotly:\n",
    "\n",
    "total_sales.iplot(kind='bar',title='Total Sales for Each Product Category')"
   ]
  },
  {
   "cell_type": "code",
   "execution_count": 253,
   "metadata": {},
   "outputs": [],
   "source": [
    "#Q6. Create a stacked column chart based on the total sales of each product category in each state. \n",
    "total_sales=superstore.pivot_table('Sales',index='State',columns='Product Category' ,aggfunc='count')\n"
   ]
  },
  {
   "cell_type": "code",
   "execution_count": 254,
   "metadata": {},
   "outputs": [
    {
     "data": {
      "text/plain": [
       "Text(0.5, 1.0, 'Total Sales for Each Product Category')"
      ]
     },
     "execution_count": 254,
     "metadata": {},
     "output_type": "execute_result"
    },
    {
     "data": {
      "text/plain": [
       "<Figure size 1008x576 with 0 Axes>"
      ]
     },
     "metadata": {},
     "output_type": "display_data"
    },
    {
     "data": {
      "image/png": "[encoded data removed]",
      "text/plain": [
       "<Figure size 432x288 with 1 Axes>"
      ]
     },
     "metadata": {
      "needs_background": "light"
     },
     "output_type": "display_data"
    }
   ],
   "source": [
    "plt.figure(figsize=(14,8))\n",
    "plot4=total_sales.plot.barh(stacked=True)\n",
    "plot4.set_xlabel('Sales')\n",
    "plot4.set_ylabel('State')\n",
    "plot4.set_title('Total Sales for Each Product Category')"
   ]
  },
  {
   "cell_type": "code",
   "execution_count": 248,
   "metadata": {},
   "outputs": [
    {
     "data": {
      "text/plain": [
       "Customer Name\n",
       "Raymond Book         60370.2100\n",
       "Grant Carroll        51311.3000\n",
       "Jack O'Briant        48410.4640\n",
       "Deborah Brumfield    46997.4565\n",
       "Tony Chapman         37044.7870\n",
       "Steve Chapman        34093.3800\n",
       "Nick Crebassa        29186.4900\n",
       "Lisa DeCherney       28120.3345\n",
       "Cindy Schnelling     27748.7955\n",
       "Eleni McCrary        26913.6900\n",
       "Name: Sales, dtype: float64"
      ]
     },
     "execution_count": 248,
     "metadata": {},
     "output_type": "execute_result"
    }
   ],
   "source": [
    "#Q7. Display the top 10 customers who made largest sales in 2011\n",
    "year_filter=superstore[superstore['Order Date'].dt.year==2011]\n",
    "top_10=year_filter.groupby('Customer Name')['Sales'].sum()\n",
    "top_10.sort_values(ascending=False).head(10)"
   ]
  },
  {
   "cell_type": "markdown",
   "metadata": {},
   "source": [
    "Plotly:\n",
    "\n",
    " no_of_orders.iplot(kind='heatmap',colorscale=\"Blues\",title=\"Orders based on States and Years\")"
   ]
  },
  {
   "cell_type": "code",
   "execution_count": 250,
   "metadata": {},
   "outputs": [
    {
     "data": {
      "text/plain": [
       "Text(0.5, 15.0, 'Year')"
      ]
     },
     "execution_count": 250,
     "metadata": {},
     "output_type": "execute_result"
    },
    {
     "data": {
      "image/png": "[encoded data removed]",
      "text/plain": [
       "<Figure size 432x288 with 2 Axes>"
      ]
     },
     "metadata": {
      "needs_background": "light"
     },
     "output_type": "display_data"
    }
   ],
   "source": [
    "#Q8. Display a heat map of the number of orders based on states and years.\n",
    "#In which year and which state the most orders were placed? \n",
    "\n",
    "no_of_orders=superstore.pivot_table('Order Quantity',columns=superstore['Order Date'].dt.year,index='State',aggfunc='count')\n",
    "no_of_orders\n",
    "plot5=sns.heatmap(no_of_orders,cmap='YlGnBu')\n",
    "plot5.set_xlabel('Year')"
   ]
  },
  {
   "cell_type": "code",
   "execution_count": null,
   "metadata": {},
   "outputs": [],
   "source": [
    "#Q10. Create a figure with two subplots in which a subplot shows a bar chart of the\n",
    "#average discount rates by product categories and another \n",
    "#subplot shows a bar chart of the average discount rates by customer segments\n",
    "\n",
    "fig,axes=plt.subplots(1,2,figsize=(12,8))\n",
    "discount_rates=superstore.pivot_table('Discount',columns='Product Category',index=superstore['Order Date'].dt.year,aggfunc='mean')\n",
    "discount_customer_segments=superstore.pivot_table('Discount',index=superstore['Order Date'].dt.year,columns='Customer Segment')\n",
    "plot5=discount_rates.plot.bar(ax=axes[0])\n",
    "plot5=discount_customer_segments.plot.bar(ax=axes[1])\n",
    "axes[0].set_xlabel('Year')\n",
    "axes[0].set_ylabel('Discount')\n",
    "axes[1].set_xlabel('Year')\n",
    "axes[1].set_ylabel('Discount')\n",
    "axes[0].set_title('Discount Rates by Product Category')\n",
    "axes[1].set_title('Discount Rates by Customer Segment')"
   ]
  },
  {
   "cell_type": "code",
   "execution_count": null,
   "metadata": {},
   "outputs": [],
   "source": [
    "#Q9. Please show the percentage of the amount of shipping cost by the amount of sales for the orders amount\n",
    "#between 50 and 500 (inclusively)\n",
    "\n",
    "orders_filter=superstore[(superstore['Sales']>=50)&(superstore['Sales']<=500)]\n",
    "shipping_Cost=orders_filter['Shipping Cost'].sum()\n",
    "Sales=orders_filter['Sales'].sum()\n",
    "percentage_of_shipping=shipping_Cost/Sales\n",
    "percentage_of_shipping"
   ]
  },
  {
   "cell_type": "code",
   "execution_count": null,
   "metadata": {},
   "outputs": [],
   "source": [
    "#Q11. How many Newell 323 (Newell 323 is a product name) were sold in 2009? Write statements to display the answer.\n",
    "superstore.isnull().sum()\n",
    "\n",
    "yearfilter=superstore[(superstore['Order Date'].dt.year==2009) & (superstore['Product Name']=='Newell 323')]\n",
    "Quantity=yearfilter.groupby('Product Name')['Order Quantity'].sum()\n",
    "Quantity"
   ]
  },
  {
   "cell_type": "code",
   "execution_count": null,
   "metadata": {},
   "outputs": [],
   "source": [
    "#Q12. Display total sale of each category under each state. \n",
    "\n",
    "Total_sales=superstore.groupby(['State','Product Category'])['Sales'].sum()\n",
    "Total_sales"
   ]
  },
  {
   "cell_type": "code",
   "execution_count": null,
   "metadata": {},
   "outputs": [],
   "source": [
    "#Q13.Determine the average number of days between order date and ship date of each sold item, based on the order priority\n",
    "\n",
    "#we can use the apply and lamda function by creating a new column and the then use the functions to make use of the values \n",
    "#inside the column.\n",
    "superstore['order_days']=superstore['Ship Date']-superstore['Order Date']\n",
    "superstore['order_days']"
   ]
  },
  {
   "cell_type": "code",
   "execution_count": null,
   "metadata": {},
   "outputs": [],
   "source": [
    "superstore['order_days']=superstore['order_days'].apply(lambda x: x.days)"
   ]
  },
  {
   "cell_type": "code",
   "execution_count": null,
   "metadata": {},
   "outputs": [],
   "source": [
    "superstore.groupby('Order Priority')['order_days'].agg('mean')"
   ]
  },
  {
   "cell_type": "code",
   "execution_count": null,
   "metadata": {},
   "outputs": [],
   "source": [
    "#Q14 Draw a line chart for the sales by years of each state. The figure size is 12 x 8. The xlabel and ylabel sizes are 12. \n",
    "#The title size is 15. The xticks need to look exactly as the ones in the figure. \n",
    "plt.figure(figsize=(12,8))\n",
    "sales_details=superstore.pivot_table('Sales',index=superstore['Order Date'].dt.year,columns=superstore['State'],aggfunc='sum')\n",
    "sales_details_plot=sales_details.plot(marker='o',figsize=(12,8))\n",
    "sales_details_plot.set_xticks([2009,2010,2011,2012])\n",
    "sales_details_plot.set_xlabel('Year',size=12)\n",
    "sales_details_plot.set_ylabel('Sales',size=12)\n",
    "sales_details_plot.set_title('Sales by Years',size=15)"
   ]
  },
  {
   "cell_type": "code",
   "execution_count": null,
   "metadata": {},
   "outputs": [],
   "source": [
    "#Q15. Create subplots chart. The top two are numbers of items sold and sales amount of items sold of each year in TEXAS. \n",
    "#The bottom two are numbers of items sold and sales amount of items sold of each product category in TEXAS.\n",
    "\n"
   ]
  },
  {
   "cell_type": "code",
   "execution_count": null,
   "metadata": {},
   "outputs": [],
   "source": [
    "Houston_filter_T1=superstore[superstore['State']=='Texas']\n",
    "Houston_filter=Houston_filter_T1.groupby(superstore['Order Date'].dt.year)['Order ID'].count()\n",
    "Houston_filter_T2=superstore[superstore['State']=='Texas'] \n",
    "Houston_filter2=Houston_filter_T2.groupby(superstore['Order Date'].dt.year)['Sales'].sum()\n",
    "Houston_filter3=Houston_filter_T1.groupby(superstore['Product Category'])['Order ID'].count()\n",
    "Houston_filter4=Houston_filter_T1.groupby(superstore['Product Category'])['Sales'].sum()\n",
    "\n",
    "fig, axes = plt.subplots(nrows=2, ncols=2, figsize=(12, 8))\n",
    "Houston_filter.plot.bar(ax=axes[0,0]) \n",
    "\n",
    "Houston_filter2.plot.bar(ax=axes[0,1]) \n",
    "Houston_filter3.plot.bar(ax=axes[1,0]) \n",
    "Houston_filter4.plot.bar(ax=axes[1,1])\n"
   ]
  },
  {
   "attachments": {},
   "cell_type": "markdown",
   "metadata": {},
   "source": [
    "#Q9. Create a stacked column chart as below that shows the items sold in the three product categories of each state"
   ]
  },
  {
   "cell_type": "markdown",
   "metadata": {},
   "source": [
    "Plotly:\n",
    "\n",
    "Items_sold.iplot(kind='bar',barmode='stack',title='Items Sold by Product Category')"
   ]
  },
  {
   "cell_type": "code",
   "execution_count": 252,
   "metadata": {},
   "outputs": [
    {
     "data": {
      "text/plain": [
       "Text(0.5, 1.0, 'Items Sold By Product Category')"
      ]
     },
     "execution_count": 252,
     "metadata": {},
     "output_type": "execute_result"
    },
    {
     "data": {
      "text/plain": [
       "<Figure size 1008x576 with 0 Axes>"
      ]
     },
     "metadata": {},
     "output_type": "display_data"
    },
    {
     "data": {
      "image/png": "[encoded data removed]",
      "text/plain": [
       "<Figure size 432x288 with 1 Axes>"
      ]
     },
     "metadata": {
      "needs_background": "light"
     },
     "output_type": "display_data"
    }
   ],
   "source": [
    "plt.figure(figsize=(14,8)) \n",
    "Items_sold=superstore.pivot_table('Sales',columns='Product Category',index='State',aggfunc='count')\n",
    "Items_sold_plot=Items_sold.plot.barh(stacked=True)\n",
    "Items_sold_plot.set_xlabel('Items Sold')\n",
    "Items_sold_plot.set_title('Items Sold By Product Category')"
   ]
  },
  {
   "cell_type": "markdown",
   "metadata": {},
   "source": [
    "Q10. Create a histogram chart as below to display the distribution of order sales amount (not item sales amount, one order may have multiple items).\n"
   ]
  },
  {
   "cell_type": "code",
   "execution_count": null,
   "metadata": {
    "scrolled": true
   },
   "outputs": [],
   "source": [
    "distribution_plot = superstore.groupby('Order ID')['Sales'].sum()\n",
    "plot1=distribution_plot.plot.hist(bins=100)\n",
    "plot1.set_title('Order Amount Distribution')\n",
    "plot1.set_xlabel('Order Amount')\n",
    "\n"
   ]
  },
  {
   "cell_type": "code",
   "execution_count": null,
   "metadata": {},
   "outputs": [],
   "source": [
    "! pip install Plotly"
   ]
  },
  {
   "cell_type": "code",
   "execution_count": null,
   "metadata": {},
   "outputs": [],
   "source": [
    "! pip install cufflinks"
   ]
  },
  {
   "cell_type": "code",
   "execution_count": 233,
   "metadata": {},
   "outputs": [],
   "source": [
    "import numpy as np\n",
    "import pandas as pd\n",
    "import cufflinks as cf\n",
    "\n",
    "import chart_studio.plotly as py\n",
    "import plotly.tools as tls\n",
    "import plotly.graph_objs as go"
   ]
  },
  {
   "cell_type": "code",
   "execution_count": 234,
   "metadata": {},
   "outputs": [],
   "source": [
    "import chart_studio\n",
    "chart_studio.tools.set_credentials_file(username='greeshmaraju', api_key='wlgEue4wAYN87lGShJJm')"
   ]
  },
  {
   "cell_type": "code",
   "execution_count": null,
   "metadata": {},
   "outputs": [],
   "source": []
  },
  {
   "cell_type": "code",
   "execution_count": null,
   "metadata": {},
   "outputs": [],
   "source": []
  },
  {
   "cell_type": "code",
   "execution_count": null,
   "metadata": {},
   "outputs": [],
   "source": []
  },
  {
   "cell_type": "code",
   "execution_count": null,
   "metadata": {},
   "outputs": [],
   "source": []
  },
  {
   "cell_type": "code",
   "execution_count": null,
   "metadata": {},
   "outputs": [],
   "source": []
  }
 ],
 "metadata": {
  "kernelspec": {
   "display_name": "Python 3",
   "language": "python",
   "name": "python3"
  },
  "language_info": {
   "codemirror_mode": {
    "name": "ipython",
    "version": 3
   },
   "file_extension": ".py",
   "mimetype": "text/x-python",
   "name": "python",
   "nbconvert_exporter": "python",
   "pygments_lexer": "ipython3",
   "version": "3.7.4"
  }
 },
 "nbformat": 4,
 "nbformat_minor": 2
}
